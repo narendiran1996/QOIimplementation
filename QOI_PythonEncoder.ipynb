{
 "cells": [
  {
   "cell_type": "code",
   "execution_count": 1,
   "metadata": {},
   "outputs": [],
   "source": [
    "import imageio as iio\n",
    "import numpy as np"
   ]
  },
  {
   "cell_type": "code",
   "execution_count": 2,
   "metadata": {},
   "outputs": [
    {
     "name": "stdout",
     "output_type": "stream",
     "text": [
      "Image Size is (512, 768, 3) and Acutal Memory required is  1152.0 kilo Bytes\n"
     ]
    }
   ],
   "source": [
    "fileName = \"./Images/kodim23.png\"\n",
    "\n",
    "img = iio.imread(fileName)\n",
    "imgNP = np.asarray(img)\n",
    "\n",
    "imgH, imgW, imgCh= imgNP.shape\n",
    "print(\"Image Size is {} and Acutal Memory required is  {} kilo Bytes\".format(imgNP.shape, imgW*imgH*imgCh/1024.0))"
   ]
  },
  {
   "cell_type": "code",
   "execution_count": null,
   "metadata": {},
   "outputs": [],
   "source": [
    "def get_qoi_desc(W, H, CH):\n",
    "    MAGIC_32 = [ord('q'), ord('o'), ord('i'), ord('f')]\n",
    "\n",
    "    WIDTH_32 = [(W>>24) & 0xFF, (W>>16) & 0xFF, (W>>8) & 0xFF, (W>>0) & 0xFF]\n",
    "    HEIGHT_32 = [(H>>24) & 0xFF, (H>>16) & 0xFF, (H>>8) & 0xFF, (H>>0) & 0xFF]\n",
    "    CHANNEL_8 = [CH & 0xFF]\n",
    "    COLORSPACE_8 = [0 & 0xFF]\n",
    "    # print(bytes(MAGIC_32), bytes(WIDTH_32), bytes(HEIGHT_32),bytes(CHANNEL_8), bytes(COLORSPACE_8))\n",
    "    return bytes(MAGIC_32) + bytes(WIDTH_32) + bytes(HEIGHT_32) + bytes(CHANNEL_8) + bytes(COLORSPACE_8)\n",
    "\n",
    "def get_qoi_rgbformat(pixel):\n",
    "    QOI_OP_RGB = [0b11111110, pixel[0], pixel[1], pixel[2]]\n",
    "    return bytes(QOI_OP_RGB)\n",
    "\n",
    "def get_qoi_runformat(pixel, runVal):\n",
    "    # run - 1 # Since run has a bias of 1, so, runVal =0 means run =1 , runVal =1 means run =2 and so on\n",
    "    # it can go till only 62 as 63 and 64 are used for RGB format and RGBA format\n",
    "    # so actual range of run is 1 to 62\n",
    "    # range of runVAl is 0 to 61 \n",
    "    # it can be seen that run = 63 and run =64 will lead to runVal = 62 and runVal = 63, hence we use 6 bits \n",
    "    # -- but we don't use RGB format and RGBA format for run    \n",
    "    QOI_OP_RUN = [0b11000000 | ((runVal-1) & 0b00111111)]\n",
    "    return bytes(QOI_OP_RUN)\n",
    "\n",
    "def get_qoi_indexformat(pixel, index):\n",
    "    QOI_OP_INDEX = [0b00000000 | (index & 0b00111111)]\n",
    "    return bytes(QOI_OP_INDEX)\n",
    "\n",
    "\n",
    "\n",
    "def get_qoi_smalldifformat(pixel, diff):\n",
    "    QOI_OP_DIFF = [0b01000000 | ( ((diff[0] +2 ) <<4)  | ((diff[1] +2 ) <<2)   | ((diff[2] +2 ) <<0) )]\n",
    "    return bytes(QOI_OP_DIFF)\n",
    "\n",
    "def get_qoi_mediumdifformat(pixel, diff, dr_dg, db_dg):\n",
    "    # print(diff)    \n",
    "    QOI_OP_LUMA = [0b10000000 | ((diff[1] + 32) & 0b00111111),  (((dr_dg + 8 )<<4) & 0b11110000 ) | ((db_dg + 8 ) & 0b00001111) ]\n",
    "    return bytes(QOI_OP_LUMA)\n",
    "\n",
    "def get_qoi_hash(pixel):\n",
    "    # (r * 3 + g * 5 + b * 7 + a * 11) % 64\n",
    "    # (r * 3 + g * 5 + b * 7 + a * 11)  & 0b00111111\n",
    "    gg = pixel.astype(np.int16)\n",
    "    return ( (gg[0]*3) +  (gg[1]*5) +(gg[2]*7) + (255*11)) %64 # alpha is 255 if not availabel\n",
    "\n",
    "\n",
    "\n",
    "def get_qoi_endmark():\n",
    "    return bytes([0,0,0,0,0,0,0,1])"
   ]
  },
  {
   "cell_type": "code",
   "execution_count": null,
   "metadata": {},
   "outputs": [],
   "source": [
    "flattendedImag = imgNP.reshape(imgH * imgW, imgCh)\n",
    "\n",
    "# INDEX_LIST = np.zeros((64,3), dtype=np.uint8)\n",
    "INDEX_LIST = [None for i in range(64)]\n",
    "\n",
    "prevPix = np.zeros((3,), dtype=np.uint8)\n",
    "\n",
    "\n",
    "myBytest = get_qoi_desc(W=imgW, H= imgH, CH = imgCh)\n",
    "\n",
    "run = 0\n",
    "\n",
    "px_len =imgW* imgH\n",
    "px_end = px_len\n",
    "\n",
    "\n",
    "for i in range(flattendedImag.shape[0]):\n",
    "    currPix = flattendedImag[i]\n",
    "\n",
    "    hashIndex = get_qoi_hash(currPix)\n",
    "\n",
    "    diff = currPix.astype(np.int16) - prevPix.astype(np.int16)\n",
    "    dr_dg = diff[0] - diff[1]\n",
    "    db_dg = diff[2] - diff[1]\n",
    "\n",
    "    \n",
    "    if np.array_equal(currPix, prevPix): # if previous pixel obtained is equl to current pixel, use run length encoding\n",
    "        run = run + 1 # run gives the repedition count\n",
    "        # NOTE: we are just couting the run, only when they become unequal we create a byte for it\n",
    "\n",
    "        \n",
    "        if run == 62 or i == px_end-1: # SHOULD HANDLE PX_POS = PX_END\n",
    "            \n",
    "\n",
    "\n",
    "            currentBytes = get_qoi_runformat(currPix, run)\n",
    "            myBytest = myBytest + currentBytes\n",
    "\n",
    "            run = 0\n",
    "        \n",
    "        # no need add if crun length edncoding\n",
    "    else:\n",
    "        # creation the byte for run length encoding only if prev and current are not euqal\n",
    "\n",
    "        if run > 0:\n",
    "            \n",
    "          \n",
    "            currentBytes = get_qoi_runformat(currPix, run)\n",
    "            myBytest = myBytest + currentBytes\n",
    "\n",
    "            run = 0\n",
    "        \n",
    "\n",
    "        # also we have to process the curr pix\n",
    "        if np.array_equal(INDEX_LIST[hashIndex], currPix):  #checking if we have seen\n",
    "\n",
    "            currentBytes = get_qoi_indexformat(currPix, hashIndex)\n",
    "            myBytest = myBytest + currentBytes\n",
    "\n",
    "            # noneed to add to INDEX LIST as alredy present\n",
    "\n",
    "        elif -2 <= diff[0] <= 1 and  -2 <= diff[1] <= 1  and -2 <= diff[2] <= 1 :\n",
    "\n",
    "\n",
    "            currentBytes = get_qoi_smalldifformat(currPix, diff)\n",
    "            myBytest = myBytest + currentBytes\n",
    "\n",
    "            INDEX_LIST[hashIndex] = currPix # since we have seen\n",
    "\n",
    "        elif -8 <= dr_dg <= 7 and  -32 <= diff[1] <= 31  and -8 <= db_dg <= 7 :\n",
    "\n",
    "\n",
    "\n",
    "            currentBytes = get_qoi_mediumdifformat(currPix, diff, dr_dg, db_dg)\n",
    "            myBytest = myBytest + currentBytes\n",
    "\n",
    "            INDEX_LIST[hashIndex] = currPix # since we have seen\n",
    "        else:\n",
    "\n",
    "            currentBytes = get_qoi_rgbformat(currPix)\n",
    "            myBytest = myBytest + currentBytes\n",
    "\n",
    "            INDEX_LIST[hashIndex] = currPix # since we have seen\n",
    "\n",
    "\n",
    "    prevPix = currPix\n",
    "    \n",
    "myBytest = myBytest + get_qoi_endmark()\n",
    "\n",
    "print(len(myBytest))\n",
    "with open(\"outputImage.qoi\",\"wb\") as f:\n",
    "    f.write(myBytest)\n",
    "    f.close()\n",
    "print(\"Compressed Memory required is  {} kilo Bytes\".format(len(myBytest)/1024.0))"
   ]
  },
  {
   "cell_type": "code",
   "execution_count": null,
   "metadata": {},
   "outputs": [],
   "source": [
    "fileName = \"./Images/wikipedia_008.qoi\"\n",
    "\n",
    "with open(fileName, \"rb\") as f:\n",
    "    fileContent = f.read()\n",
    "    f.close()\n",
    "print(len(fileContent))"
   ]
  },
  {
   "cell_type": "code",
   "execution_count": null,
   "metadata": {},
   "outputs": [],
   "source": [
    "lena = len(fileContent)\n",
    "myBytest[:lena] == fileContent[:lena]"
   ]
  },
  {
   "cell_type": "code",
   "execution_count": null,
   "metadata": {},
   "outputs": [],
   "source": [
    "print(\"Compressed Memory required is  {} kilo Bytes\".format(len(myBytest)/1024.0))"
   ]
  },
  {
   "cell_type": "code",
   "execution_count": null,
   "metadata": {},
   "outputs": [],
   "source": [
    "list(myBytest[:24])"
   ]
  },
  {
   "cell_type": "code",
   "execution_count": 3,
   "metadata": {},
   "outputs": [
    {
     "data": {
      "text/plain": [
       "array([[116, 116,  88],\n",
       "       [117, 117,  89],\n",
       "       [120, 120,  92],\n",
       "       [119, 118,  91],\n",
       "       [120, 120,  92],\n",
       "       [120, 120,  92],\n",
       "       [117, 117,  87]], dtype=uint8)"
      ]
     },
     "execution_count": 3,
     "metadata": {},
     "output_type": "execute_result"
    }
   ],
   "source": [
    "flattendedImag = imgNP.reshape(imgH * imgW, imgCh)\n",
    "flattendedImag[:7]"
   ]
  },
  {
   "cell_type": "code",
   "execution_count": null,
   "metadata": {},
   "outputs": [],
   "source": []
  }
 ],
 "metadata": {
  "interpreter": {
   "hash": "31f2aee4e71d21fbe5cf8b01ff0e069b9275f58929596ceb00d14d90e3e16cd6"
  },
  "kernelspec": {
   "display_name": "Python 3.8.10 64-bit",
   "language": "python",
   "name": "python3"
  },
  "language_info": {
   "codemirror_mode": {
    "name": "ipython",
    "version": 3
   },
   "file_extension": ".py",
   "mimetype": "text/x-python",
   "name": "python",
   "nbconvert_exporter": "python",
   "pygments_lexer": "ipython3",
   "version": "3.8.10"
  },
  "orig_nbformat": 4
 },
 "nbformat": 4,
 "nbformat_minor": 2
}

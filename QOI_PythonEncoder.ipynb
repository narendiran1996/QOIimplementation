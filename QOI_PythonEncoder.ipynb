{
 "cells": [
  {
   "cell_type": "code",
   "execution_count": 1,
   "metadata": {},
   "outputs": [],
   "source": [
    "import imageio as iio\n",
    "import numpy as np"
   ]
  },
  {
   "cell_type": "code",
   "execution_count": 41,
   "metadata": {},
   "outputs": [
    {
     "name": "stdout",
     "output_type": "stream",
     "text": [
      "Image Size is (100, 190, 3) and Acutal Memory required is  55.6640625 kilo Bytes\n"
     ]
    }
   ],
   "source": [
    "fileName = \"./Images/test_simp.png\"\n",
    "\n",
    "img = iio.imread(fileName)\n",
    "imgNP = np.asarray(img)\n",
    "\n",
    "imgH, imgW, imgCh= imgNP.shape\n",
    "print(\"Image Size is {} and Acutal Memory required is  {} kilo Bytes\".format(imgNP.shape, imgW*imgH*imgCh/1024.0))"
   ]
  },
  {
   "cell_type": "code",
   "execution_count": 42,
   "metadata": {},
   "outputs": [],
   "source": [
    "def get_qoi_desc(W, H, CH):\n",
    "    MAGIC_32 = [ord('q'), ord('o'), ord('i'), ord('f')]\n",
    "\n",
    "    WIDTH_32 = [(W>>24) & 0xFF, (W>>16) & 0xFF, (W>>8) & 0xFF, (W>>0) & 0xFF]\n",
    "    HEIGHT_32 = [(H>>24) & 0xFF, (H>>16) & 0xFF, (H>>8) & 0xFF, (H>>0) & 0xFF]\n",
    "    CHANNEL_8 = [CH & 0xFF]\n",
    "    COLORSPACE_8 = [0 & 0xFF]\n",
    "    # print(bytes(MAGIC_32), bytes(WIDTH_32), bytes(HEIGHT_32),bytes(CHANNEL_8), bytes(COLORSPACE_8))\n",
    "    return bytes(MAGIC_32) + bytes(WIDTH_32) + bytes(HEIGHT_32) + bytes(CHANNEL_8) + bytes(COLORSPACE_8)\n",
    "\n",
    "def get_qoi_rgbformat(pixel):\n",
    "    QOI_OP_RGB = [0b11111110, pixel[0], pixel[1], pixel[2]]\n",
    "    return bytes(QOI_OP_RGB)\n",
    "\n",
    "def get_qoi_runformat(pixel, runVal):\n",
    "    # run - 1 # Since run has a bias of 1, so, runVal =0 means run =1 , runVal =1 means run =2 and so on\n",
    "    # it can go till only 62 as 63 and 64 are used for RGB format and RGBA format\n",
    "    # so actual range of run is 1 to 62\n",
    "    # range of runVAl is 0 to 61 \n",
    "    # it can be seen that run = 63 and run =64 will lead to runVal = 62 and runVal = 63, hence we use 6 bits \n",
    "    # -- but we don't use RGB format and RGBA format for run    \n",
    "    QOI_OP_RUN = [0b11000000 | ((runVal-1) & 0b00111111)]\n",
    "    return bytes(QOI_OP_RUN)\n",
    "\n",
    "def get_qoi_indexformat(pixel, index):\n",
    "    QOI_OP_INDEX = [0b00000000 | (index & 0b00111111)]\n",
    "    return bytes(QOI_OP_INDEX)\n",
    "\n",
    "\n",
    "\n",
    "def get_qoi_smalldifformat(pixel, diff):\n",
    "    QOI_OP_DIFF = [0b01000000 | ( ((diff[0] +2 ) <<4)  | ((diff[1] +2 ) <<2)   | ((diff[2] +2 ) <<0) )]\n",
    "    return bytes(QOI_OP_DIFF)\n",
    "\n",
    "def get_qoi_mediumdifformat(pixel, diff, dr_dg, db_dg):\n",
    "    # print(diff)    \n",
    "    QOI_OP_LUMA = [0b10000000 | ((diff[1] + 32) & 0b00111111),  (((dr_dg + 8 )<<4) & 0b11110000 ) | ((db_dg + 8 ) & 0b00001111) ]\n",
    "    return bytes(QOI_OP_LUMA)\n",
    "\n",
    "def get_qoi_hash(pixel):\n",
    "    # (r * 3 + g * 5 + b * 7 + a * 11) % 64\n",
    "    # (r * 3 + g * 5 + b * 7 + a * 11)  & 0b00111111\n",
    "    gg = pixel.astype(np.int16)\n",
    "    return ( (gg[0]*3) +  (gg[1]*5) +(gg[2]*7) + (255*11)) %64 # alpha is 255 if not availabel\n",
    "\n",
    "\n",
    "\n",
    "def get_qoi_endmark():\n",
    "    return bytes([0,0,0,0,0,0,0,1])"
   ]
  },
  {
   "cell_type": "code",
   "execution_count": 59,
   "metadata": {},
   "outputs": [
    {
     "name": "stdout",
     "output_type": "stream",
     "text": [
      "0 [ 62 101 171] [ 62 101 171]\n",
      "1 [ 62 101 171] [0 0 0]\n",
      "2 [ 61 101 171] [-1  0  0]\n",
      "3 [ 61 101 170] [ 0  0 -1]\n",
      "4 [ 61 101 170] [0 0 0]\n",
      "5 [ 61 101 170] [0 0 0]\n",
      "6 [ 61 101 170] [0 0 0]\n",
      "7 [ 61 101 170] [0 0 0]\n",
      "8 [ 61 101 170] [0 0 0]\n",
      "9 [ 62 101 171] [1 0 1]\n",
      "10 [ 63 101 172] [1 0 1]\n",
      "11 [ 64 103 173] [1 2 1]\n",
      "[162, 119]\n",
      "34\n",
      "Compressed Memory required is  0.033203125 kilo Bytes\n"
     ]
    }
   ],
   "source": [
    "flattendedImag = imgNP.reshape(imgH * imgW, imgCh)\n",
    "\n",
    "# INDEX_LIST = np.zeros((64,3), dtype=np.uint8)\n",
    "INDEX_LIST = [None for i in range(64)]\n",
    "\n",
    "prevPix = np.zeros((3,), dtype=np.uint8)\n",
    "\n",
    "\n",
    "myBytest = get_qoi_desc(W=imgW, H= imgH, CH = imgCh)\n",
    "\n",
    "run = 0\n",
    "\n",
    "px_len =imgW* imgH\n",
    "px_end = px_len\n",
    "\n",
    "\n",
    "for i in range(flattendedImag.shape[0]):\n",
    "    currPix = flattendedImag[i]\n",
    "\n",
    "    hashIndex = get_qoi_hash(currPix)\n",
    "\n",
    "    diff = currPix.astype(np.int16) - prevPix.astype(np.int16)\n",
    "    print(i, currPix, diff)\n",
    "    dr_dg = diff[0] - diff[1]\n",
    "    db_dg = diff[2] - diff[1]\n",
    "\n",
    "    \n",
    "    if np.array_equal(currPix, prevPix): # if previous pixel obtained is equl to current pixel, use run length encoding\n",
    "        run = run + 1 # run gives the repedition count\n",
    "        # NOTE: we are just couting the run, only when they become unequal we create a byte for it\n",
    "\n",
    "        \n",
    "        if run == 62 or i == px_end-1: # SHOULD HANDLE PX_POS = PX_END\n",
    "            \n",
    "\n",
    "\n",
    "            currentBytes = get_qoi_runformat(currPix, run)\n",
    "            myBytest = myBytest + currentBytes\n",
    "\n",
    "            run = 0\n",
    "        \n",
    "        # no need add if crun length edncoding\n",
    "    else:\n",
    "        # creation the byte for run length encoding only if prev and current are not euqal\n",
    "\n",
    "        if run > 0:\n",
    "            \n",
    "          \n",
    "            currentBytes = get_qoi_runformat(currPix, run)\n",
    "            myBytest = myBytest + currentBytes\n",
    "\n",
    "            run = 0\n",
    "        \n",
    "\n",
    "        # also we have to process the curr pix\n",
    "        if np.array_equal(INDEX_LIST[hashIndex], currPix):  #checking if we have seen\n",
    "\n",
    "            currentBytes = get_qoi_indexformat(currPix, hashIndex)\n",
    "            myBytest = myBytest + currentBytes\n",
    "\n",
    "            # noneed to add to INDEX LIST as alredy present\n",
    "\n",
    "        elif -2 <= diff[0] <= 1 and  -2 <= diff[1] <= 1  and -2 <= diff[2] <= 1 :\n",
    "\n",
    "\n",
    "            currentBytes = get_qoi_smalldifformat(currPix, diff)\n",
    "            myBytest = myBytest + currentBytes\n",
    "\n",
    "            INDEX_LIST[hashIndex] = currPix # since we have seen\n",
    "\n",
    "        elif -8 <= dr_dg <= 7 and  -32 <= diff[1] <= 31  and -8 <= db_dg <= 7 :\n",
    "            \n",
    "\n",
    "\n",
    "            currentBytes = get_qoi_mediumdifformat(currPix, diff, dr_dg, db_dg)\n",
    "            print(list(currentBytes))\n",
    "            myBytest = myBytest + currentBytes\n",
    "\n",
    "            INDEX_LIST[hashIndex] = currPix # since we have seen\n",
    "        else:\n",
    "\n",
    "            currentBytes = get_qoi_rgbformat(currPix)\n",
    "            myBytest = myBytest + currentBytes\n",
    "\n",
    "            INDEX_LIST[hashIndex] = currPix # since we have seen\n",
    "\n",
    "\n",
    "    prevPix = currPix\n",
    "    if i == 11:\n",
    "        break\n",
    "    \n",
    "myBytest = myBytest + get_qoi_endmark()\n",
    "\n",
    "print(len(myBytest))\n",
    "with open(\"outputImage.qoi\",\"wb\") as f:\n",
    "    f.write(myBytest)\n",
    "    f.close()\n",
    "print(\"Compressed Memory required is  {} kilo Bytes\".format(len(myBytest)/1024.0))"
   ]
  },
  {
   "cell_type": "code",
   "execution_count": 44,
   "metadata": {},
   "outputs": [
    {
     "name": "stdout",
     "output_type": "stream",
     "text": [
      "1521134\n"
     ]
    }
   ],
   "source": [
    "fileName = \"./Images/wikipedia_008.qoi\"\n",
    "\n",
    "with open(fileName, \"rb\") as f:\n",
    "    fileContent = f.read()\n",
    "    f.close()\n",
    "print(len(fileContent))"
   ]
  },
  {
   "cell_type": "code",
   "execution_count": 45,
   "metadata": {},
   "outputs": [
    {
     "data": {
      "text/plain": [
       "False"
      ]
     },
     "execution_count": 45,
     "metadata": {},
     "output_type": "execute_result"
    }
   ],
   "source": [
    "lena = len(fileContent)\n",
    "myBytest[:lena] == fileContent[:lena]"
   ]
  },
  {
   "cell_type": "code",
   "execution_count": 46,
   "metadata": {},
   "outputs": [
    {
     "name": "stdout",
     "output_type": "stream",
     "text": [
      "Compressed Memory required is  30.037109375 kilo Bytes\n"
     ]
    }
   ],
   "source": [
    "print(\"Compressed Memory required is  {} kilo Bytes\".format(len(myBytest)/1024.0))"
   ]
  },
  {
   "cell_type": "code",
   "execution_count": 47,
   "metadata": {},
   "outputs": [
    {
     "data": {
      "text/plain": [
       "[113,\n",
       " 111,\n",
       " 105,\n",
       " 102,\n",
       " 0,\n",
       " 0,\n",
       " 0,\n",
       " 190,\n",
       " 0,\n",
       " 0,\n",
       " 0,\n",
       " 100,\n",
       " 3,\n",
       " 0,\n",
       " 254,\n",
       " 62,\n",
       " 101,\n",
       " 171,\n",
       " 192,\n",
       " 90,\n",
       " 105,\n",
       " 196,\n",
       " 21,\n",
       " 123,\n",
       " 162]"
      ]
     },
     "execution_count": 47,
     "metadata": {},
     "output_type": "execute_result"
    }
   ],
   "source": [
    "list(myBytest[:25])"
   ]
  },
  {
   "cell_type": "code",
   "execution_count": 48,
   "metadata": {},
   "outputs": [
    {
     "data": {
      "text/plain": [
       "array([[ 62, 101, 171],\n",
       "       [ 62, 101, 171],\n",
       "       [ 61, 101, 171],\n",
       "       [ 61, 101, 170],\n",
       "       [ 61, 101, 170],\n",
       "       [ 61, 101, 170],\n",
       "       [ 61, 101, 170]], dtype=uint8)"
      ]
     },
     "execution_count": 48,
     "metadata": {},
     "output_type": "execute_result"
    }
   ],
   "source": [
    "flattendedImag = imgNP.reshape(imgH * imgW, imgCh)\n",
    "flattendedImag[:7]"
   ]
  },
  {
   "cell_type": "code",
   "execution_count": 49,
   "metadata": {},
   "outputs": [
    {
     "name": "stdout",
     "output_type": "stream",
     "text": [
      "30758\n"
     ]
    }
   ],
   "source": [
    "with open(\"./MemFiles/encodedQOIImage.mem\",\"w\") as f:\n",
    "    st = ''\n",
    "    for i in myBytest:\n",
    "        st = st + hex(i)[2:] + '\\n'\n",
    "    f.write(st)\n",
    "    f.close()\n",
    "\n",
    "print(len(myBytest))"
   ]
  },
  {
   "cell_type": "code",
   "execution_count": 50,
   "metadata": {},
   "outputs": [
    {
     "name": "stdout",
     "output_type": "stream",
     "text": [
      "113 q 01110001\n",
      "111 o 01101111\n",
      "105 i 01101001\n",
      "102 f 01100110\n",
      "0 \u0000 00000000\n",
      "0 \u0000 00000000\n",
      "0 \u0000 00000000\n",
      "190 ¾ 10111110\n",
      "0 \u0000 00000000\n",
      "0 \u0000 00000000\n",
      "0 \u0000 00000000\n",
      "100 d 01100100\n",
      "3 \u0003 00000011\n",
      "0 \u0000 00000000\n",
      "254 þ 11111110\n",
      "62 > 00111110\n",
      "101 e 01100101\n",
      "171 « 10101011\n",
      "192 À 11000000\n",
      "90 Z 01011010\n",
      "105 i 01101001\n",
      "196 Ä 11000100\n",
      "21 \u0015 00010101\n",
      "123 { 01111011\n",
      "162 ¢ 10100010\n"
     ]
    }
   ],
   "source": [
    "for i in list(myBytest[:14+1+3+1+1+1+1+1+1+1]):\n",
    "    print(i, chr(i), bin(i)[2:].zfill(8))"
   ]
  },
  {
   "cell_type": "code",
   "execution_count": 90,
   "metadata": {},
   "outputs": [],
   "source": [
    "with open(\"./outputRGB.txt\",\"r\") as f:\n",
    "    g =f.readlines()\n",
    "    f.close()\n",
    "gg = []\n",
    "for i in g:\n",
    "    m=i.strip(' ').strip('\\n').split(',')\n",
    "    m = [int(j) for j in m]\n",
    "    gg.append(m)"
   ]
  },
  {
   "cell_type": "code",
   "execution_count": 91,
   "metadata": {},
   "outputs": [
    {
     "name": "stdout",
     "output_type": "stream",
     "text": [
      "0 [ True  True  True] [ 62 101 171] [62, 101, 171]\n",
      "1 [ True  True  True] [ 62 101 171] [62, 101, 171]\n",
      "2 [ True  True  True] [ 61 101 171] [61, 101, 171]\n",
      "3 [ True  True  True] [ 61 101 170] [61, 101, 170]\n",
      "4 [ True  True  True] [ 61 101 170] [61, 101, 170]\n",
      "5 [ True  True  True] [ 61 101 170] [61, 101, 170]\n",
      "6 [ True  True  True] [ 61 101 170] [61, 101, 170]\n",
      "7 [ True  True  True] [ 61 101 170] [61, 101, 170]\n",
      "8 [ True  True  True] [ 61 101 170] [61, 101, 170]\n",
      "9 [ True  True  True] [ 62 101 171] [62, 101, 171]\n",
      "10 [ True  True  True] [ 63 101 172] [63, 101, 172]\n",
      "11 [ True  True  True] [ 64 103 173] [64, 103, 173]\n",
      "12 [False False False] [ 64 103 173] [62, 101, 172]\n"
     ]
    }
   ],
   "source": [
    "for i in range(13):\n",
    "    print(i, flattendedImag[i,:] == gg[i], flattendedImag[i,:] , gg[i])"
   ]
  },
  {
   "cell_type": "code",
   "execution_count": null,
   "metadata": {},
   "outputs": [],
   "source": []
  }
 ],
 "metadata": {
  "interpreter": {
   "hash": "31f2aee4e71d21fbe5cf8b01ff0e069b9275f58929596ceb00d14d90e3e16cd6"
  },
  "kernelspec": {
   "display_name": "Python 3.8.10 64-bit",
   "language": "python",
   "name": "python3"
  },
  "language_info": {
   "codemirror_mode": {
    "name": "ipython",
    "version": 3
   },
   "file_extension": ".py",
   "mimetype": "text/x-python",
   "name": "python",
   "nbconvert_exporter": "python",
   "pygments_lexer": "ipython3",
   "version": "3.8.10"
  },
  "orig_nbformat": 4
 },
 "nbformat": 4,
 "nbformat_minor": 2
}

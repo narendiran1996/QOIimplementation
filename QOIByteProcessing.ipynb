{
 "cells": [
  {
   "cell_type": "code",
   "execution_count": 24,
   "metadata": {},
   "outputs": [],
   "source": [
    "import numpy as np"
   ]
  },
  {
   "cell_type": "code",
   "execution_count": 25,
   "metadata": {},
   "outputs": [],
   "source": [
    "fileName = \"./Images/kodim23.qoi\"\n",
    "\n",
    "with open(fileName, \"rb\") as f:\n",
    "    fileContent = f.read()\n",
    "    f.close()"
   ]
  },
  {
   "cell_type": "code",
   "execution_count": 26,
   "metadata": {},
   "outputs": [
    {
     "name": "stdout",
     "output_type": "stream",
     "text": [
      "['q', 'o', 'i', 'f'] 768 512 3 0\n",
      "0b11111110 116 116 88\n",
      "b'\\x00\\x00\\x00\\x00\\x00\\x00\\x00\\x01'\n"
     ]
    }
   ],
   "source": [
    "MAGIC = [chr(fileContent[0]), chr(fileContent[1]), chr(fileContent[2]), chr(fileContent[3])]\n",
    "WIDTH = (fileContent[4]<<24 ) | (fileContent[5] << 16) |  (fileContent[6] << 8 ) | (fileContent[7])\n",
    "HEIGHT = (fileContent[8]<<24 ) | (fileContent[9] << 16) |  (fileContent[10] << 8 ) | (fileContent[11])\n",
    "CHANNEL = fileContent[12]\n",
    "COLORSPACE = fileContent[13]\n",
    "ENDMARK =fileContent[-8:]\n",
    "print(MAGIC, WIDTH, HEIGHT, CHANNEL, COLORSPACE)\n",
    "print(bin(fileContent[14]), fileContent[15], fileContent[16], fileContent[17])\n",
    "print(ENDMARK)"
   ]
  },
  {
   "cell_type": "code",
   "execution_count": 27,
   "metadata": {},
   "outputs": [
    {
     "name": "stdout",
     "output_type": "stream",
     "text": [
      "1903126886\n"
     ]
    }
   ],
   "source": [
    "MAGIC_comp = (fileContent[0]<<24 ) | (fileContent[1] << 16) |  (fileContent[2] << 8 ) | (fileContent[3])\n",
    "WIDTH_comp = (fileContent[4]<<24 ) | (fileContent[5] << 16) |  (fileContent[6] << 8 ) | (fileContent[7])\n",
    "print(MAGIC_comp)"
   ]
  },
  {
   "cell_type": "code",
   "execution_count": 28,
   "metadata": {},
   "outputs": [
    {
     "name": "stdout",
     "output_type": "stream",
     "text": [
      "b'qoif' b'\\x00\\x00\\x03\\x00' b'\\x00\\x00\\x02\\x00' 3 0 b'\\xfettX'\n"
     ]
    }
   ],
   "source": [
    "MAGIC_Bytes = fileContent[:4]\n",
    "WIDTH_Bytes = fileContent[4:8]\n",
    "HEIGHT_Bytes = fileContent[8:12]\n",
    "CHANNEL_Byte = fileContent[12]\n",
    "COLORSPACE_Byte = fileContent[13]\n",
    "\n",
    "firstPixel = fileContent[14:18]\n",
    "print(MAGIC_Bytes, WIDTH_Bytes, HEIGHT_Bytes, CHANNEL_Byte, COLORSPACE_Byte, firstPixel)"
   ]
  },
  {
   "cell_type": "code",
   "execution_count": 29,
   "metadata": {},
   "outputs": [
    {
     "data": {
      "text/plain": [
       "675251"
      ]
     },
     "execution_count": 29,
     "metadata": {},
     "output_type": "execute_result"
    }
   ],
   "source": [
    "len(fileContent)"
   ]
  },
  {
   "cell_type": "code",
   "execution_count": null,
   "metadata": {},
   "outputs": [],
   "source": []
  }
 ],
 "metadata": {
  "interpreter": {
   "hash": "31f2aee4e71d21fbe5cf8b01ff0e069b9275f58929596ceb00d14d90e3e16cd6"
  },
  "kernelspec": {
   "display_name": "Python 3.8.10 64-bit",
   "language": "python",
   "name": "python3"
  },
  "language_info": {
   "codemirror_mode": {
    "name": "ipython",
    "version": 3
   },
   "file_extension": ".py",
   "mimetype": "text/x-python",
   "name": "python",
   "nbconvert_exporter": "python",
   "pygments_lexer": "ipython3",
   "version": "3.8.10"
  },
  "orig_nbformat": 4
 },
 "nbformat": 4,
 "nbformat_minor": 2
}
